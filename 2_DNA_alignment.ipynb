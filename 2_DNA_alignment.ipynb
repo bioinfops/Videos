{
 "cells": [
  {
   "cell_type": "markdown",
   "metadata": {},
   "source": [
    "## Creating an alignment"
   ]
  },
  {
   "cell_type": "code",
   "execution_count": null,
   "metadata": {},
   "outputs": [],
   "source": [
    "#!sudo apt-get install -y clustalw"
   ]
  },
  {
   "cell_type": "code",
   "execution_count": 1,
   "metadata": {},
   "outputs": [],
   "source": [
    "from Bio.Align.Applications import ClustalwCommandline"
   ]
  },
  {
   "cell_type": "code",
   "execution_count": 2,
   "metadata": {},
   "outputs": [],
   "source": [
    "cline = ClustalwCommandline(\"clustalw\", infile=\"opuntia.fasta\")"
   ]
  },
  {
   "cell_type": "code",
   "execution_count": 3,
   "metadata": {},
   "outputs": [
    {
     "data": {
      "text/plain": [
       "('\\n\\n\\n CLUSTAL 2.1 Multiple Sequence Alignments\\n\\n\\nSequence format is Pearson\\nSequence 1: gi|6273291|gb|AF191665.1|AF191665   902 bp\\nSequence 2: gi|6273290|gb|AF191664.1|AF191664   899 bp\\nSequence 3: gi|6273289|gb|AF191663.1|AF191663   899 bp\\nSequence 4: gi|6273287|gb|AF191661.1|AF191661   895 bp\\nSequence 5: gi|6273286|gb|AF191660.1|AF191660   893 bp\\nSequence 6: gi|6273285|gb|AF191659.1|AF191659   894 bp\\nSequence 7: gi|6273284|gb|AF191658.1|AF191658   896 bp\\nStart of Pairwise alignments\\nAligning...\\n\\nSequences (1:2) Aligned. Score:  99\\nSequences (1:3) Aligned. Score:  99\\nSequences (1:4) Aligned. Score:  98\\nSequences (1:5) Aligned. Score:  98\\nSequences (1:6) Aligned. Score:  98\\nSequences (1:7) Aligned. Score:  98\\nSequences (2:3) Aligned. Score:  99\\nSequences (2:4) Aligned. Score:  98\\nSequences (2:5) Aligned. Score:  98\\nSequences (2:6) Aligned. Score:  98\\nSequences (2:7) Aligned. Score:  98\\nSequences (3:4) Aligned. Score:  98\\nSequences (3:5) Aligned. Score:  98\\nSequences (3:6) Aligned. Score:  98\\nSequences (3:7) Aligned. Score:  98\\nSequences (4:5) Aligned. Score:  99\\nSequences (4:6) Aligned. Score:  99\\nSequences (4:7) Aligned. Score:  99\\nSequences (5:6) Aligned. Score:  99\\nSequences (5:7) Aligned. Score:  99\\nSequences (6:7) Aligned. Score:  99\\nGuide tree file created:   [opuntia.dnd]\\n\\nThere are 6 groups\\nStart of Multiple Alignment\\n\\nAligning...\\nGroup 1: Sequences:   2      Score:16933\\nGroup 2: Sequences:   2      Score:16703\\nGroup 3: Sequences:   4      Score:16812\\nGroup 4: Sequences:   2      Score:17071\\nGroup 5: Sequences:   3      Score:16845\\nGroup 6: Sequences:   7      Score:16678\\nAlignment Score 114256\\n\\nCLUSTAL-Alignment file created  [opuntia.aln]\\n\\n',\n",
       " '')"
      ]
     },
     "execution_count": 3,
     "metadata": {},
     "output_type": "execute_result"
    }
   ],
   "source": [
    "cline()"
   ]
  },
  {
   "cell_type": "markdown",
   "metadata": {},
   "source": [
    "## Reading an alignment file"
   ]
  },
  {
   "cell_type": "code",
   "execution_count": 4,
   "metadata": {},
   "outputs": [],
   "source": [
    "from Bio import AlignIO"
   ]
  },
  {
   "cell_type": "code",
   "execution_count": 5,
   "metadata": {},
   "outputs": [],
   "source": [
    "#Open the alignment file\n",
    "alignnment  = AlignIO.read(\"opuntia.aln\", \"clustal\")"
   ]
  },
  {
   "cell_type": "code",
   "execution_count": 6,
   "metadata": {},
   "outputs": [
    {
     "name": "stdout",
     "output_type": "stream",
     "text": [
      "Alignment with 7 rows and 906 columns\n",
      "TATACATTAAAGAAGGGGGATGCGGATAAATGGAAAGGCGAAAG...AGA gi|6273285|gb|AF191659.1|AF191\n",
      "TATACATTAAAGAAGGGGGATGCGGATAAATGGAAAGGCGAAAG...AGA gi|6273284|gb|AF191658.1|AF191\n",
      "TATACATTAAAGAAGGGGGATGCGGATAAATGGAAAGGCGAAAG...AGA gi|6273287|gb|AF191661.1|AF191\n",
      "TATACATAAAAGAAGGGGGATGCGGATAAATGGAAAGGCGAAAG...AGA gi|6273286|gb|AF191660.1|AF191\n",
      "TATACATTAAAGGAGGGGGATGCGGATAAATGGAAAGGCGAAAG...AGA gi|6273290|gb|AF191664.1|AF191\n",
      "TATACATTAAAGGAGGGGGATGCGGATAAATGGAAAGGCGAAAG...AGA gi|6273289|gb|AF191663.1|AF191\n",
      "TATACATTAAAGGAGGGGGATGCGGATAAATGGAAAGGCGAAAG...AGA gi|6273291|gb|AF191665.1|AF191\n"
     ]
    }
   ],
   "source": [
    "print(alignnment)"
   ]
  },
  {
   "cell_type": "markdown",
   "metadata": {},
   "source": [
    "## Changing format"
   ]
  },
  {
   "cell_type": "code",
   "execution_count": 7,
   "metadata": {},
   "outputs": [
    {
     "data": {
      "text/plain": [
       "1"
      ]
     },
     "execution_count": 7,
     "metadata": {},
     "output_type": "execute_result"
    }
   ],
   "source": [
    "AlignIO.write(alignnment, \"my_example.phy\", \"phylip\")"
   ]
  },
  {
   "cell_type": "code",
   "execution_count": null,
   "metadata": {},
   "outputs": [],
   "source": []
  }
 ],
 "metadata": {
  "kernelspec": {
   "display_name": "Python 3",
   "language": "python",
   "name": "python3"
  },
  "language_info": {
   "codemirror_mode": {
    "name": "ipython",
    "version": 3
   },
   "file_extension": ".py",
   "mimetype": "text/x-python",
   "name": "python",
   "nbconvert_exporter": "python",
   "pygments_lexer": "ipython3",
   "version": "3.7.6"
  }
 },
 "nbformat": 4,
 "nbformat_minor": 4
}
